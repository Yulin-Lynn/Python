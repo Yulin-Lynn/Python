{
 "cells": [
  {
   "cell_type": "code",
   "execution_count": 3,
   "metadata": {},
   "outputs": [
    {
     "data": {
      "text/plain": [
       "Text(0, 0.5, '$logistic(z)$')"
      ]
     },
     "execution_count": 3,
     "metadata": {},
     "output_type": "execute_result"
    },
    {
     "data": {
      "image/png": "[encoded data removed]",
      "text/plain": [
       "<Figure size 432x288 with 1 Axes>"
      ]
     },
     "metadata": {
      "needs_background": "light"
     },
     "output_type": "display_data"
    }
   ],
   "source": [
    "# 逻辑函数也称作S型函数（sigmoid function），可以运行以下几行代码来看一下\n",
    "import matplotlib.pyplot as plt \n",
    "import numpy as np\n",
    "\n",
    "z = np.linspace(-10,10,100) # 生成(-10,10)范围内指定个数100的一维数组\n",
    "logistic = 1/(1 + np.exp(-z))\n",
    "\n",
    "plt.plot(z,logistic)\n",
    "plt.xlabel('$z$', fontsize=18)\n",
    "plt.ylabel('$logistic(z)$', fontsize=18)"
   ]
  },
  {
   "cell_type": "code",
   "execution_count": 20,
   "metadata": {},
   "outputs": [
    {
     "data": {
      "text/html": [
       "<div>\n",
       "<style scoped>\n",
       "    .dataframe tbody tr th:only-of-type {\n",
       "        vertical-align: middle;\n",
       "    }\n",
       "\n",
       "    .dataframe tbody tr th {\n",
       "        vertical-align: top;\n",
       "    }\n",
       "\n",
       "    .dataframe thead th {\n",
       "        text-align: right;\n",
       "    }\n",
       "</style>\n",
       "<table border=\"1\" class=\"dataframe\">\n",
       "  <thead>\n",
       "    <tr style=\"text-align: right;\">\n",
       "      <th></th>\n",
       "      <th>SepalLength</th>\n",
       "      <th>SepalWidth</th>\n",
       "      <th>PetalLength</th>\n",
       "      <th>PetalWidth</th>\n",
       "      <th>Species</th>\n",
       "    </tr>\n",
       "  </thead>\n",
       "  <tbody>\n",
       "    <tr>\n",
       "      <th>0</th>\n",
       "      <td>6.4</td>\n",
       "      <td>2.8</td>\n",
       "      <td>5.6</td>\n",
       "      <td>2.2</td>\n",
       "      <td>2</td>\n",
       "    </tr>\n",
       "    <tr>\n",
       "      <th>1</th>\n",
       "      <td>5.0</td>\n",
       "      <td>2.3</td>\n",
       "      <td>3.3</td>\n",
       "      <td>1.0</td>\n",
       "      <td>1</td>\n",
       "    </tr>\n",
       "    <tr>\n",
       "      <th>2</th>\n",
       "      <td>4.9</td>\n",
       "      <td>2.5</td>\n",
       "      <td>4.5</td>\n",
       "      <td>1.7</td>\n",
       "      <td>2</td>\n",
       "    </tr>\n",
       "    <tr>\n",
       "      <th>3</th>\n",
       "      <td>4.9</td>\n",
       "      <td>3.1</td>\n",
       "      <td>1.5</td>\n",
       "      <td>0.1</td>\n",
       "      <td>0</td>\n",
       "    </tr>\n",
       "    <tr>\n",
       "      <th>4</th>\n",
       "      <td>5.7</td>\n",
       "      <td>3.8</td>\n",
       "      <td>1.7</td>\n",
       "      <td>0.3</td>\n",
       "      <td>0</td>\n",
       "    </tr>\n",
       "  </tbody>\n",
       "</table>\n",
       "</div>"
      ],
      "text/plain": [
       "   SepalLength  SepalWidth  PetalLength  PetalWidth  Species\n",
       "0          6.4         2.8          5.6         2.2        2\n",
       "1          5.0         2.3          3.3         1.0        1\n",
       "2          4.9         2.5          4.5         1.7        2\n",
       "3          4.9         3.1          1.5         0.1        0\n",
       "4          5.7         3.8          1.7         0.3        0"
      ]
     },
     "execution_count": 20,
     "metadata": {},
     "output_type": "execute_result"
    }
   ],
   "source": [
    "import seaborn as sns\n",
    "TRAIN_URL=\"http://download.tensorflow.org/data/iris_training.csv\"\n",
    "\n",
    "iris=pd.read_csv(TRAIN_URL,header=0,names=column_names)\n",
    "iris.head()"
   ]
  },
  {
   "cell_type": "code",
   "execution_count": 21,
   "metadata": {},
   "outputs": [
    {
     "data": {
      "text/plain": [
       "<AxesSubplot:xlabel='Species', ylabel='SepalLength'>"
      ]
     },
     "execution_count": 21,
     "metadata": {},
     "output_type": "execute_result"
    },
    {
     "data": {
      "image/png": "[encoded data removed]",
      "text/plain": [
       "<Figure size 432x288 with 1 Axes>"
      ]
     },
     "metadata": {
      "needs_background": "light"
     },
     "output_type": "display_data"
    }
   ],
   "source": [
    "# 可以用seaborn中的stripplot函数将每个种类的花萼长度画出来\n",
    "# 通过将𝑗𝑖𝑡𝑡𝑒𝑟参数设为𝑇𝑟𝑢𝑒,能够避免所有点都重叠在一条直线上\n",
    "sns.stripplot(x=\"Species\",y=\"SepalLength\",data=iris,jitter=True)"
   ]
  },
  {
   "cell_type": "code",
   "execution_count": null,
   "metadata": {},
   "outputs": [],
   "source": [
    "#用𝑝𝑎𝑖𝑟𝑝𝑙𝑜𝑡画出散点图矩阵\n",
    "# kind：用于控制非对角线上的图的类型，可选\"scatter\"与\"reg\",默认散点图scatter\n",
    "# diag_kind：控制对角线上的图的类型，可选\"hist\"与\"kde\",hist为直方图\n",
    "# 通过 palette 参数来调出自己想要的颜色\n",
    "# markers：控制散点的样式\n",
    "\"\"\"\n",
    "可以看到对角线上是各个属性的直方图（分布图），而非对角线上是两个不同属性之间的相关图，\n",
    "从图中我们发现，花瓣的长度和宽度之间以及萼片的长短和花瓣的长、宽之间具有比较明显的相关关系。\n",
    "\"\"\"\n",
    "sns.pairplot(iris, hue=\"Species\", kind=\"scatter\",diag_kind=\"kde\",palette=\"husl\")\n"
   ]
  },
  {
   "cell_type": "code",
   "execution_count": null,
   "metadata": {},
   "outputs": [],
   "source": [
    "import pymc3 as pm\n",
    "import pandas as pd\n",
    "import scipy.stats as stats\n",
    "import theano.tensor as tt"
   ]
  },
  {
   "cell_type": "code",
   "execution_count": 44,
   "metadata": {},
   "outputs": [
    {
     "name": "stdout",
     "output_type": "stream",
     "text": [
      "[5.  4.9 5.7 4.4 5.4 6.7 5.1 5.2 6.9 5.8 5.4 6.3 5.7 5.4 5.2 5.8 5.4 6.7\n",
      " 6.3 5.1 6.4 5.1 4.8 5.1 4.7 4.8 4.6 5.  6.6 6.1 5.  7.  5.  5.6 6.2 4.4\n",
      " 5.  4.7 6.6 5.5 4.9 5.5 5.7 6.  5.4 6.1 6.5 5.6 4.9 6.8 5.7 6.  5.  6.1\n",
      " 5.1 4.6 4.6 4.6 5.9 5.1 4.9 4.9 4.5 5.8 5.  5.2 5.3 5.  5.6 4.8 5.7 5.\n",
      " 5.  5.5 5.7 4.4 4.8 5.5]\n"
     ]
    }
   ],
   "source": [
    "# 给训练数据做标签\n",
    "# 用花萼长度这一特征（自变量）来区分 setosa 和 versicolor 这两个种类。\n",
    "df = iris.query(\"Species == ('0','1')\")\n",
    "y_0 = pd.Categorical(df['Species']).codes\n",
    "x_n = 'SepalLength'\n",
    "x_0 = df[x_n].values"
   ]
  }
 ],
 "metadata": {
  "kernelspec": {
   "display_name": "Python 3",
   "language": "python",
   "name": "python3"
  },
  "language_info": {
   "codemirror_mode": {
    "name": "ipython",
    "version": 3
   },
   "file_extension": ".py",
   "mimetype": "text/x-python",
   "name": "python",
   "nbconvert_exporter": "python",
   "pygments_lexer": "ipython3",
   "version": "3.8.2"
  }
 },
 "nbformat": 4,
 "nbformat_minor": 4
}
